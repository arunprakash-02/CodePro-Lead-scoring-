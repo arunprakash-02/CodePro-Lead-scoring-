{
 "cells": [
  {
   "cell_type": "code",
   "execution_count": 1,
   "id": "895ddfbc-7cb3-4c9a-8caf-2fa078a1610d",
   "metadata": {},
   "outputs": [],
   "source": [
    "import utils\n",
    "#print(dir(utils))"
   ]
  },
  {
   "cell_type": "code",
   "execution_count": 2,
   "id": "ab2d97db-9cc9-445b-a529-6735c47a569c",
   "metadata": {},
   "outputs": [],
   "source": [
    "from utils import *"
   ]
  },
  {
   "cell_type": "code",
   "execution_count": 3,
   "id": "98a9e72d-9319-49bc-9acf-c01254179901",
   "metadata": {},
   "outputs": [
    {
     "name": "stdout",
     "output_type": "stream",
     "text": [
      "Creating Database\n",
      "New DB Created\n",
      "DB Created\n",
      "📌 Rows in 'loaded_data': 240000\n",
      "loaded_data updated.\n"
     ]
    }
   ],
   "source": [
    "\n",
    "print(build_dbs(constants.DB_PATH, constants.DB_FILE_NAME)) \n",
    "print(load_data_into_db(constants.DB_PATH,constants.DB_FILE_NAME,constants.DATA_DIRECTORY))"
   ]
  },
  {
   "cell_type": "code",
   "execution_count": 4,
   "id": "4366909f-2d87-412e-9a8f-9a4bd45fd73f",
   "metadata": {},
   "outputs": [
    {
     "name": "stdout",
     "output_type": "stream",
     "text": [
      "city_tier_mapped table updated.\n"
     ]
    }
   ],
   "source": [
    "print(map_city_tier(constants.DB_PATH,constants.DB_FILE_NAME,city_tier_mapping))\n"
   ]
  },
  {
   "cell_type": "code",
   "execution_count": 5,
   "id": "753cab54-7697-4d17-8214-a445e9efefee",
   "metadata": {},
   "outputs": [
    {
     "name": "stdout",
     "output_type": "stream",
     "text": [
      "categorical_variables_mapped updated.\n"
     ]
    }
   ],
   "source": [
    "print(map_categorical_vars(constants.DB_PATH,constants.DB_FILE_NAME,\n",
    "        significant_categorical_level.list_platform,\n",
    "           significant_categorical_level.list_medium,\n",
    "      significant_categorical_level.list_source))\n",
    "\n"
   ]
  },
  {
   "cell_type": "code",
   "execution_count": 6,
   "id": "ff100e4e-8b26-4b3a-8b0a-7b58ae7f9ace",
   "metadata": {},
   "outputs": [
    {
     "name": "stdout",
     "output_type": "stream",
     "text": [
      "✅ interactions_mapped. Total Rows: 238964\n",
      "Index(['first_platform_c', 'first_utm_medium_c', 'first_utm_source_c',\n",
      "       'total_leads_droppped', 'city_tier', 'referred_lead',\n",
      "       'app_complete_flag'],\n",
      "      dtype='object', name='interaction_mapping')\n",
      "✅ model_input updated. Total Rows: 238964\n",
      "interactions_mapped and model_input updated.\n"
     ]
    }
   ],
   "source": [
    "print(interactions_mapping(constants.DB_PATH,constants.DB_FILE_NAME,constants.INTERACTION_MAPPING,\n",
    "                   constants.INDEX_COLUMNS_TRAINING,\n",
    "                       constants.INDEX_COLUMNS_INFERENCE,\n",
    "                   constants.NOT_FEATURES))"
   ]
  },
  {
   "cell_type": "code",
   "execution_count": 7,
   "id": "51718478-eb48-4c7c-952b-15a6bcbc8b40",
   "metadata": {},
   "outputs": [],
   "source": [
    "#import importlib\n",
    "#import utils\n",
    "#importlib.reload(utils)\n",
    "#import test_with_pytest\n",
    "#importlib.reload(test_with_pytest)\n",
    "#import sys\n",
    "#!{sys.executable} -m pytest -s test_with_pytest.py\n"
   ]
  },
  {
   "cell_type": "code",
   "execution_count": null,
   "id": "f0e5fe6a-65ff-433c-81c6-79476c97214f",
   "metadata": {},
   "outputs": [],
   "source": []
  }
 ],
 "metadata": {
  "kernelspec": {
   "display_name": "Python [conda env:base] *",
   "language": "python",
   "name": "conda-base-py"
  },
  "language_info": {
   "codemirror_mode": {
    "name": "ipython",
    "version": 3
   },
   "file_extension": ".py",
   "mimetype": "text/x-python",
   "name": "python",
   "nbconvert_exporter": "python",
   "pygments_lexer": "ipython3",
   "version": "3.12.7"
  }
 },
 "nbformat": 4,
 "nbformat_minor": 5
}
