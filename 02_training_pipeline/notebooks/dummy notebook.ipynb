{
 "cells": [
  {
   "cell_type": "code",
   "execution_count": 1,
   "id": "895ddfbc-7cb3-4c9a-8caf-2fa078a1610d",
   "metadata": {},
   "outputs": [],
   "source": [
    "import utils\n",
    "#print(dir(utils))"
   ]
  },
  {
   "cell_type": "code",
   "execution_count": 2,
   "id": "ab2d97db-9cc9-445b-a529-6735c47a569c",
   "metadata": {},
   "outputs": [],
   "source": [
    "from utils import *\n",
    "from constants import *"
   ]
  },
  {
   "cell_type": "code",
   "execution_count": 3,
   "id": "98a9e72d-9319-49bc-9acf-c01254179901",
   "metadata": {},
   "outputs": [
    {
     "name": "stdout",
     "output_type": "stream",
     "text": [
      "✅ Successfully connected to DB\n",
      "Input data has been extracted successfully\n",
      "input_data has been saved to table features\n",
      "input_data has been saved to table target\n"
     ]
    }
   ],
   "source": [
    "encode_features(DB_FILE_NAME, DB_PATH, ONE_HOT_ENCODED_FEATURES)\n",
    "#print(build_dbs(constants.DB_PATH, constants.DB_FILE_NAME)) \n",
    "#print(load_data_into_db(constants.DB_PATH,constants.DB_FILE_NAME,constants.DATA_DIRECTORY))"
   ]
  },
  {
   "cell_type": "code",
   "execution_count": 4,
   "id": "4366909f-2d87-412e-9a8f-9a4bd45fd73f",
   "metadata": {},
   "outputs": [
    {
     "name": "stdout",
     "output_type": "stream",
     "text": [
      "✅ Successfully connected to DB\n",
      "Input data has been extracted successfully\n",
      "   total_leads_droppped  city_tier  referred_lead  first_platform_c_Level0  \\\n",
      "0                   1.0        1.0            0.0                        1   \n",
      "1                   1.0        2.0            0.0                        0   \n",
      "2                   1.0        1.0            0.0                        0   \n",
      "3                   2.0        1.0            0.0                        0   \n",
      "4                   1.0        1.0            0.0                        0   \n",
      "\n",
      "   first_platform_c_Level1  first_platform_c_Level2  first_platform_c_Level3  \\\n",
      "0                        0                        0                        0   \n",
      "1                        0                        0                        1   \n",
      "2                        0                        0                        1   \n",
      "3                        1                        0                        0   \n",
      "4                        0                        0                        1   \n",
      "\n",
      "   first_platform_c_Level7  first_platform_c_Level8  first_platform_c_others  \\\n",
      "0                        0                        0                        0   \n",
      "1                        0                        0                        0   \n",
      "2                        0                        0                        0   \n",
      "3                        0                        0                        0   \n",
      "4                        0                        0                        0   \n",
      "\n",
      "   ...  first_utm_medium_c_others  first_utm_source_c_Level0  \\\n",
      "0  ...                          0                          0   \n",
      "1  ...                          0                          0   \n",
      "2  ...                          0                          1   \n",
      "3  ...                          0                          0   \n",
      "4  ...                          0                          1   \n",
      "\n",
      "   first_utm_source_c_Level14  first_utm_source_c_Level16  \\\n",
      "0                           0                           0   \n",
      "1                           0                           0   \n",
      "2                           0                           0   \n",
      "3                           0                           0   \n",
      "4                           0                           0   \n",
      "\n",
      "   first_utm_source_c_Level2  first_utm_source_c_Level4  \\\n",
      "0                          1                          0   \n",
      "1                          0                          0   \n",
      "2                          0                          0   \n",
      "3                          0                          0   \n",
      "4                          0                          0   \n",
      "\n",
      "   first_utm_source_c_Level5  first_utm_source_c_Level6  \\\n",
      "0                          0                          0   \n",
      "1                          0                          0   \n",
      "2                          0                          0   \n",
      "3                          0                          0   \n",
      "4                          0                          0   \n",
      "\n",
      "   first_utm_source_c_Level7  first_utm_source_c_others  \n",
      "0                          0                          0  \n",
      "1                          0                          1  \n",
      "2                          0                          0  \n",
      "3                          0                          1  \n",
      "4                          0                          0  \n",
      "\n",
      "[5 rows x 38 columns]\n",
      "✅ Successfully connected to DB\n",
      "Input data has been extracted successfully\n",
      "   app_complete_flag\n",
      "0                  1\n",
      "1                  1\n",
      "2                  1\n",
      "3                  0\n",
      "4                  0\n"
     ]
    },
    {
     "name": "stderr",
     "output_type": "stream",
     "text": [
      "2025/04/08 18:51:36 INFO mlflow.tracking.fluent: Experiment with name 'Lead_scoring_mlflow_production' does not exist. Creating a new experiment.\n",
      "/opt/anaconda3/lib/python3.12/site-packages/sklearn/preprocessing/_label.py:97: DataConversionWarning: A column-vector y was passed when a 1d array was expected. Please change the shape of y to (n_samples, ), for example using ravel().\n",
      "  y = column_or_1d(y, warn=True)\n",
      "/opt/anaconda3/lib/python3.12/site-packages/sklearn/preprocessing/_label.py:132: DataConversionWarning: A column-vector y was passed when a 1d array was expected. Please change the shape of y to (n_samples, ), for example using ravel().\n",
      "  y = column_or_1d(y, dtype=self.classes_.dtype, warn=True)\n"
     ]
    },
    {
     "name": "stdout",
     "output_type": "stream",
     "text": [
      "[LightGBM] [Warning] Unknown parameter: silent\n",
      "[LightGBM] [Warning] Unknown parameter: silent\n",
      "[LightGBM] [Info] Number of positive: 95824, number of negative: 95347\n",
      "[LightGBM] [Info] Auto-choosing row-wise multi-threading, the overhead of testing was 0.003007 seconds.\n",
      "You can set `force_row_wise=true` to remove the overhead.\n",
      "And if memory is not enough, you can set `force_col_wise=true`.\n",
      "[LightGBM] [Info] Total Bins 120\n",
      "[LightGBM] [Info] Number of data points in the train set: 191171, number of used features: 38\n",
      "[LightGBM] [Info] [binary:BoostFromScore]: pavg=0.501248 -> initscore=0.004990\n",
      "[LightGBM] [Info] Start training from score 0.004990\n",
      "🏃 View run funny-finch-700 at: http://localhost:5000/#/experiments/2/runs/8659f52335174c7db278c1dde80635a3\n",
      "🧪 View experiment at: http://localhost:5000/#/experiments/2\n"
     ]
    },
    {
     "name": "stderr",
     "output_type": "stream",
     "text": [
      "\u001b[31m2025/04/08 18:51:47 WARNING mlflow.models.model: Model logged without a signature and input example. Please set `input_example` parameter when logging the model to auto infer the model signature.\u001b[0m\n",
      "Registered model 'LightGBM' already exists. Creating a new version of this model...\n",
      "2025/04/08 18:51:48 INFO mlflow.store.model_registry.abstract_store: Waiting up to 300 seconds for model version to finish creation. Model name: LightGBM, version 3\n",
      "Created version '3' of model 'LightGBM'.\n"
     ]
    },
    {
     "name": "stdout",
     "output_type": "stream",
     "text": [
      "[LightGBM] [Warning] Unknown parameter: silent\n",
      "AUC= 0.7401703365512305\n"
     ]
    }
   ],
   "source": [
    "get_trained_model()\n"
   ]
  },
  {
   "cell_type": "code",
   "execution_count": null,
   "id": "f75f97f8-946e-4964-b559-b6548c9341e9",
   "metadata": {},
   "outputs": [],
   "source": [
    "prediction_ratio_check()"
   ]
  }
 ],
 "metadata": {
  "kernelspec": {
   "display_name": "Python [conda env:base] *",
   "language": "python",
   "name": "conda-base-py"
  },
  "language_info": {
   "codemirror_mode": {
    "name": "ipython",
    "version": 3
   },
   "file_extension": ".py",
   "mimetype": "text/x-python",
   "name": "python",
   "nbconvert_exporter": "python",
   "pygments_lexer": "ipython3",
   "version": "3.12.7"
  }
 },
 "nbformat": 4,
 "nbformat_minor": 5
}
